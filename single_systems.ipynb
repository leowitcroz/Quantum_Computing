{
 "cells": [
  {
   "cell_type": "code",
   "execution_count": 3,
   "metadata": {},
   "outputs": [
    {
     "name": "stdout",
     "output_type": "stream",
     "text": [
      "[0.5 0.5]\n"
     ]
    }
   ],
   "source": [
    "\n",
    "import numpy \n",
    "from IPython.display import display\n",
    "\n",
    "#arrays binario a posicao 0 equivale ao 0 e a posicao  1 equivale ao 1\n",
    "ket0 = numpy.array([1,0]) \n",
    "ket1 = numpy.array([0,1])\n",
    "\n",
    "print((ket0)/2 +( ket1)/2)\n",
    "\n"
   ]
  },
  {
   "cell_type": "code",
   "execution_count": 4,
   "metadata": {},
   "outputs": [
    {
     "name": "stdout",
     "output_type": "stream",
     "text": [
      "[[1.  1. ]\n",
      " [0.5 0. ]]\n"
     ]
    }
   ],
   "source": [
    "M1 = numpy.array([[1,1],[0,0]])\n",
    "M2 = numpy.array([[1,1],[1,0]])\n",
    "\n",
    "print((M1)/2 +(M2)/2)\n",
    "\n",
    "#para fazer multiplicacao de matrizes usamos o matmul\n",
    "\n",
    "# print(numpy.matmul(M1,ket1))\n",
    "# print(numpy.matmul(M1,M2))\n",
    "\n"
   ]
  },
  {
   "cell_type": "code",
   "execution_count": 10,
   "metadata": {},
   "outputs": [
    {
     "data": {
      "text/latex": [
       "$$\\frac{\\sqrt{2}}{2} |0\\rangle+\\frac{\\sqrt{2}}{2} |1\\rangle$$"
      ],
      "text/plain": [
       "<IPython.core.display.Latex object>"
      ]
     },
     "metadata": {},
     "output_type": "display_data"
    },
    {
     "data": {
      "text/plain": [
       "[0.70710678+0.j,0.70710678+0.j]"
      ]
     },
     "metadata": {},
     "output_type": "display_data"
    }
   ],
   "source": [
    "#Definindo e mostrando vetores de estado StateVectors\n",
    "\n",
    "import numpy as np\n",
    "import qiskit.quantum_info as qs\n",
    "\n",
    "\n",
    "# Definindo vetores de estado\n",
    "u = qs.Statevector([1/np.sqrt(2), 1/np.sqrt(2)])\n",
    "v = qs.Statevector([(1 + 2.0j) / 3, -2 / 3])\n",
    "\n",
    "# Imprimir statevectors como texto\n",
    "display(u.draw('latex'))\n",
    "display(u.draw('text'))\n"
   ]
  },
  {
   "cell_type": "code",
   "execution_count": 12,
   "metadata": {},
   "outputs": [
    {
     "data": {
      "text/plain": [
       "True"
      ]
     },
     "metadata": {},
     "output_type": "display_data"
    },
    {
     "data": {
      "text/plain": [
       "False"
      ]
     },
     "metadata": {},
     "output_type": "display_data"
    }
   ],
   "source": [
    "#para verificar se um Statevector e valido, podemos usar a funcao is_valid() ele verifica se a nromal euclidiana do vetor é 1\n",
    "\n",
    "display(u.is_valid())\n",
    "\n",
    "x = qs.Statevector([23/np.sqrt(2), 1/np.sqrt(2)])\n",
    "display(x.is_valid())"
   ]
  },
  {
   "cell_type": "code",
   "execution_count": 35,
   "metadata": {},
   "outputs": [
    {
     "data": {
      "text/plain": [
       "'0'"
      ]
     },
     "metadata": {},
     "output_type": "display_data"
    },
    {
     "data": {
      "text/plain": [
       "(0.4472135954999579+0.8944271909999159j)"
      ]
     },
     "metadata": {},
     "output_type": "display_data"
    }
   ],
   "source": [
    "#para fazer medidas vamos usar measure\n",
    "#ele retorna o valor final da medida e o novo estado quantico do sistema\n",
    "\n",
    "v = qs.Statevector([(1 + 2.0j)/3, -2/3])\n",
    "v.draw('latex')\n",
    "\n",
    "mesured = v.measure()\n",
    "\n",
    "display(mesured[0])\n",
    "\n",
    "display(mesured[1][0])\n",
    "\n"
   ]
  },
  {
   "cell_type": "code",
   "execution_count": 39,
   "metadata": {},
   "outputs": [
    {
     "data": {
      "text/plain": [
       "{'0': 555, '1': 445}"
      ]
     },
     "metadata": {},
     "output_type": "display_data"
    },
    {
     "data": {
      "image/png": "[encoded data removed]",
      "text/plain": [
       "<Figure size 700x500 with 1 Axes>"
      ]
     },
     "execution_count": 39,
     "metadata": {},
     "output_type": "execute_result"
    }
   ],
   "source": [
    "#Para medir a estatistica n vezes de um estado quantico podemos usar o sample_counts\n",
    "from qiskit.visualization import plot_histogram\n",
    "\n",
    "#estamos medindo o vetor 1000x\n",
    "statistics = v.sample_counts(1000)\n",
    "display(statistics)\n",
    "plot_histogram(statistics)\n"
   ]
  },
  {
   "cell_type": "code",
   "execution_count": 40,
   "metadata": {},
   "outputs": [
    {
     "data": {
      "text/latex": [
       "$$(0.8535533906 + 0.3535533906 i) |0\\rangle+(-0.3535533906 + 0.1464466094 i) |1\\rangle$$"
      ],
      "text/plain": [
       "<IPython.core.display.Latex object>"
      ]
     },
     "execution_count": 40,
     "metadata": {},
     "output_type": "execute_result"
    }
   ],
   "source": [
    "#operacao unitarias em StateVectors \n",
    "from qiskit.quantum_info import Operator\n",
    "\n",
    "X = Operator([[0, 1], [1, 0]])\n",
    "Y = Operator([[0, -1.0j], [1.0j, 0]])\n",
    "Z = Operator([[1, 0], [0, -1]])\n",
    "H = Operator([[1 / np.sqrt(2), 1 / np.sqrt(2)], [1 / np.sqrt(2), -1 / np.sqrt(2)]])\n",
    "S = Operator([[1, 0], [0, 1.0j]])\n",
    "T = Operator([[1, 0], [0, (1 + 1.0j) / np.sqrt(2)]])\n",
    "\n",
    "v = qs.Statevector([1, 0])\n",
    "v = v.evolve(H)\n",
    "v = v.evolve(T)\n",
    "v = v.evolve(H)\n",
    "v = v.evolve(T)\n",
    "v = v.evolve(Z)\n",
    "\n",
    "v.draw(\"latex\")\n",
    "\n",
    "\n"
   ]
  }
 ],
 "metadata": {
  "kernelspec": {
   "display_name": "Python 3",
   "language": "python",
   "name": "python3"
  },
  "language_info": {
   "codemirror_mode": {
    "name": "ipython",
    "version": 3
   },
   "file_extension": ".py",
   "mimetype": "text/x-python",
   "name": "python",
   "nbconvert_exporter": "python",
   "pygments_lexer": "ipython3",
   "version": "3.11.2"
  }
 },
 "nbformat": 4,
 "nbformat_minor": 2
}
